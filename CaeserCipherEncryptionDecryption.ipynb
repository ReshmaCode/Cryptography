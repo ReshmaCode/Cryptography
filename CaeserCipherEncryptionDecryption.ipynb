{
 "cells": [
  {
   "cell_type": "code",
   "execution_count": 47,
   "id": "2f9dcc4c",
   "metadata": {},
   "outputs": [
    {
     "data": {
      "text/plain": [
       "'EASY TO BREAK'"
      ]
     },
     "execution_count": 47,
     "metadata": {},
     "output_type": "execute_result"
    }
   ],
   "source": [
    "ALPHABET = \"ABCDEFGHIJKLMNOPQRSTUVWXYZ\"\n",
    "SPECIAL_CHARS = \" ,.-;:_?!=\"\n",
    "\n",
    "def encrypt(plain_text, key):\n",
    "    cipher_text = \"\"\n",
    "    for letter in plain_text:\n",
    "        if letter in SPECIAL_CHARS:\n",
    "            cipher_text += letter\n",
    "            continue\n",
    "        index = ALPHABET.find(letter.upper())\n",
    "        new_index = flatten(index + key)\n",
    "        cipher_text += ALPHABET[new_index]\n",
    "    return cipher_text\n",
    "\n",
    "def decrypt(cipher_text, key=None):   \n",
    "    if key is None:\n",
    "        key = find_key_from_cipher(cipher_text)\n",
    "\n",
    "    plain_text = \"\"\n",
    "    for letter in cipher_text:\n",
    "        #Skipping special characters (incomplete solution)\n",
    "        if letter in SPECIAL_CHARS:\n",
    "            plain_text += letter\n",
    "            continue\n",
    "        index = ALPHABET.find(letter.upper())\n",
    "        #print(index - key)\n",
    "        new_index = flatten(index - key)\n",
    "        plain_text += ALPHABET[new_index]\n",
    "\n",
    "    return plain_text\n",
    "\n",
    "def flatten(number) :\n",
    "   \n",
    "    return number - (26*(number//26))\n",
    "\n",
    "\n",
    "def find_key_from_cipher(cipher_text):\n",
    "    index_of_most_common_letter = 4 #Index of 'e'\n",
    "\n",
    "    #Calculate distribution\n",
    "    distribution_dict = analyse_letter_distribution(cipher_text)\n",
    "    #Get common letters\n",
    "    common_letters = sorted(distribution_dict, key=distribution_dict.get, reverse=True)\n",
    "   \n",
    "    #Use most common letter to get key\n",
    "    key = ALPHABET.find(common_letters[0].upper()) - index_of_most_common_letter    \n",
    "    return key\n",
    "\n",
    "def analyse_letter_distribution(cipher_text):\n",
    "    distribution_dict = {}\n",
    "    for letter in cipher_text:\n",
    "        if letter in SPECIAL_CHARS:\n",
    "            continue\n",
    "        if letter not in distribution_dict:\n",
    "            distribution_dict[letter] = 1\n",
    "        else:\n",
    "            distribution_dict[letter] += 1\n",
    "    #if len(distribution_dict.values()) != len(distribution_dict.values()):\n",
    "      #  print(\"Multiple letters appear the same amount of times! Uh oh.\")\n",
    "    #print (distribution_dict.values())\n",
    "    return distribution_dict\n",
    "\n",
    "\n",
    "    if __name__ == \"__main__\":\n",
    "        secret = encrypt(\"This sentence is encrypted. Encryption is broken     by using awesome encryption algorithms!\",5)\n",
    "        print(decrypt(secret))\n",
    "decrypt(\"GCUA VQ DTGCM\")"
   ]
  },
  {
   "cell_type": "code",
   "execution_count": null,
   "id": "1c91737e",
   "metadata": {},
   "outputs": [],
   "source": []
  }
 ],
 "metadata": {
  "kernelspec": {
   "display_name": "Python 3 (ipykernel)",
   "language": "python",
   "name": "python3"
  },
  "language_info": {
   "codemirror_mode": {
    "name": "ipython",
    "version": 3
   },
   "file_extension": ".py",
   "mimetype": "text/x-python",
   "name": "python",
   "nbconvert_exporter": "python",
   "pygments_lexer": "ipython3",
   "version": "3.9.7"
  }
 },
 "nbformat": 4,
 "nbformat_minor": 5
}
